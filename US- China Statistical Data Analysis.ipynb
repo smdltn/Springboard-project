{
 "cells": [
  {
   "cell_type": "code",
   "execution_count": 1,
   "metadata": {},
   "outputs": [
    {
     "name": "stderr",
     "output_type": "stream",
     "text": [
      "Importing plotly failed. Interactive plots will not work.\n"
     ]
    }
   ],
   "source": [
    "import matplotlib.pyplot as plt \n",
    "import pandas as pd \n",
    "import numpy as np \n",
    "import seaborn as sns\n",
    "import fbprophet\n",
    "from scipy import stats"
   ]
  },
  {
   "cell_type": "code",
   "execution_count": 2,
   "metadata": {},
   "outputs": [],
   "source": [
    "#Importing data\n",
    "population = pd.read_csv('population.csv', skiprows=4, index_col=0, na_values = ' ')\n",
    "energy = pd.read_csv('energy.csv', skiprows=4, index_col=0, na_values=' ')\n",
    "gdp = pd.read_csv('gdp.csv', skiprows=3, index_col=0, na_values = ' ')\n",
    "\n",
    "#Cleaning up unneeded columns\n",
    "population = population.drop(['Country Code', 'Indicator Name', 'Indicator Code'], axis=1)\n",
    "energy = energy.drop(['Country Code', 'Indicator Name', 'Indicator Code'], axis=1)\n",
    "gdp = gdp.drop(['Country Code', 'Indicator Name', 'Indicator Code'], axis=1)\n",
    "\n",
    "gdp = gdp.drop(['Unnamed: 64'], axis=1)\n",
    "\n",
    "gdp = gdp.drop(gdp.loc[:, '1960':'1970'].columns, axis =1)\n",
    "gdp = gdp.drop(gdp.loc[:, '2015':'2019'].columns, axis =1)\n",
    "\n",
    "population = population.drop(population.loc[:, '1960':'1970'].columns, axis =1)\n",
    "population = population.drop(population.loc[:, '2015':'2019'].columns, axis =1)\n",
    "\n",
    "energy = energy.drop(energy.loc[:, '1960':'1970'].columns, axis =1)\n",
    "energy = energy.drop(energy.loc[:, '2015':'2019'].columns, axis =1)"
   ]
  },
  {
   "cell_type": "markdown",
   "metadata": {},
   "source": [
    "Extracting US and China data into two new DataFrame: US, China"
   ]
  },
  {
   "cell_type": "code",
   "execution_count": 3,
   "metadata": {},
   "outputs": [],
   "source": [
    "US = population.loc['United States']\n",
    "US = pd.DataFrame(US)\n",
    "US['GDP'] = gdp.loc['United States']/population.loc['United States']\n",
    "US['Energy'] = energy.loc['United States']\n",
    "US = US.rename(columns={'United States':'Population'})"
   ]
  },
  {
   "cell_type": "code",
   "execution_count": 4,
   "metadata": {},
   "outputs": [],
   "source": [
    "US.index = US.index.astype(int)"
   ]
  },
  {
   "cell_type": "code",
   "execution_count": 5,
   "metadata": {},
   "outputs": [
    {
     "data": {
      "text/html": [
       "<div>\n",
       "<style scoped>\n",
       "    .dataframe tbody tr th:only-of-type {\n",
       "        vertical-align: middle;\n",
       "    }\n",
       "\n",
       "    .dataframe tbody tr th {\n",
       "        vertical-align: top;\n",
       "    }\n",
       "\n",
       "    .dataframe thead th {\n",
       "        text-align: right;\n",
       "    }\n",
       "</style>\n",
       "<table border=\"1\" class=\"dataframe\">\n",
       "  <thead>\n",
       "    <tr style=\"text-align: right;\">\n",
       "      <th></th>\n",
       "      <th>Population</th>\n",
       "      <th>GDP</th>\n",
       "      <th>Energy</th>\n",
       "    </tr>\n",
       "  </thead>\n",
       "  <tbody>\n",
       "    <tr>\n",
       "      <td>1971</td>\n",
       "      <td>207661000.0</td>\n",
       "      <td>5609.382600</td>\n",
       "      <td>7644.524802</td>\n",
       "    </tr>\n",
       "    <tr>\n",
       "      <td>1972</td>\n",
       "      <td>209896000.0</td>\n",
       "      <td>6094.017990</td>\n",
       "      <td>7940.997832</td>\n",
       "    </tr>\n",
       "    <tr>\n",
       "      <td>1973</td>\n",
       "      <td>211909000.0</td>\n",
       "      <td>6726.358956</td>\n",
       "      <td>8163.603792</td>\n",
       "    </tr>\n",
       "    <tr>\n",
       "      <td>1974</td>\n",
       "      <td>213854000.0</td>\n",
       "      <td>7225.691360</td>\n",
       "      <td>7909.586480</td>\n",
       "    </tr>\n",
       "    <tr>\n",
       "      <td>1975</td>\n",
       "      <td>215973000.0</td>\n",
       "      <td>7801.456664</td>\n",
       "      <td>7656.263579</td>\n",
       "    </tr>\n",
       "  </tbody>\n",
       "</table>\n",
       "</div>"
      ],
      "text/plain": [
       "       Population          GDP       Energy\n",
       "1971  207661000.0  5609.382600  7644.524802\n",
       "1972  209896000.0  6094.017990  7940.997832\n",
       "1973  211909000.0  6726.358956  8163.603792\n",
       "1974  213854000.0  7225.691360  7909.586480\n",
       "1975  215973000.0  7801.456664  7656.263579"
      ]
     },
     "execution_count": 5,
     "metadata": {},
     "output_type": "execute_result"
    }
   ],
   "source": [
    "US.head()"
   ]
  },
  {
   "cell_type": "code",
   "execution_count": 6,
   "metadata": {},
   "outputs": [],
   "source": [
    "China = population.loc['China']\n",
    "China = pd.DataFrame(China)\n",
    "China['GDP'] = gdp.loc['China']/population.loc['China']\n",
    "China['Energy'] = energy.loc['China']\n",
    "China = China.rename(columns={'China':'Population'})"
   ]
  },
  {
   "cell_type": "code",
   "execution_count": 7,
   "metadata": {},
   "outputs": [],
   "source": [
    "China.index = China.index.astype(int)"
   ]
  },
  {
   "cell_type": "code",
   "execution_count": 8,
   "metadata": {},
   "outputs": [
    {
     "data": {
      "text/plain": [
       "Text(0.5, 1.0, 'Total Energy Cunsumption vs Population for U.S. and China')"
      ]
     },
     "execution_count": 8,
     "metadata": {},
     "output_type": "execute_result"
    },
    {
     "data": {
      "image/png": "[encoded data removed]",
      "text/plain": [
       "<Figure size 1080x360 with 2 Axes>"
      ]
     },
     "metadata": {
      "needs_background": "light"
     },
     "output_type": "display_data"
    }
   ],
   "source": [
    "plt.figure(figsize = (15,5))\n",
    "\n",
    "plt.subplot(1,2,1)\n",
    "plt.plot(US.GDP, US.Energy, China.GDP, China.Energy, linestyle='none', marker='.')\n",
    "plt.legend(['U.S.', 'China'])\n",
    "plt.xlabel('GDP per Capita')\n",
    "plt.ylabel('Energy Usage per Capita')\n",
    "plt.title('Energy vs GDP for U.S. and China')\n",
    "\n",
    "plt.subplot(1,2,2)\n",
    "plt.plot(US.Population, US.Energy*US.Population, China.Population, China.Energy*China.Population, linestyle='none', marker='.')\n",
    "plt.legend(['U.S.', 'China'])\n",
    "plt.xlabel('Population')\n",
    "plt.ylabel('Total Energy Consumption')\n",
    "plt.title('Total Energy Cunsumption vs Population for U.S. and China')"
   ]
  },
  {
   "cell_type": "markdown",
   "metadata": {},
   "source": [
    "Prepare new DataFrame to be used with Prophet. delta_df has its 'y' column contain the difference in Energy Consumption between US and China (per Capita values)"
   ]
  },
  {
   "cell_type": "code",
   "execution_count": 9,
   "metadata": {},
   "outputs": [],
   "source": [
    "delta_df= pd.DataFrame()\n",
    "delta_df['ds'] = US.index\n",
    "delta_df['y'] = US.Energy.values - China.Energy.values\n",
    "delta_df.ds = delta_df.ds.astype(str)"
   ]
  },
  {
   "cell_type": "code",
   "execution_count": 10,
   "metadata": {},
   "outputs": [
    {
     "data": {
      "text/html": [
       "<div>\n",
       "<style scoped>\n",
       "    .dataframe tbody tr th:only-of-type {\n",
       "        vertical-align: middle;\n",
       "    }\n",
       "\n",
       "    .dataframe tbody tr th {\n",
       "        vertical-align: top;\n",
       "    }\n",
       "\n",
       "    .dataframe thead th {\n",
       "        text-align: right;\n",
       "    }\n",
       "</style>\n",
       "<table border=\"1\" class=\"dataframe\">\n",
       "  <thead>\n",
       "    <tr style=\"text-align: right;\">\n",
       "      <th></th>\n",
       "      <th>ds</th>\n",
       "      <th>y</th>\n",
       "    </tr>\n",
       "  </thead>\n",
       "  <tbody>\n",
       "    <tr>\n",
       "      <td>0</td>\n",
       "      <td>1971</td>\n",
       "      <td>7179.591645</td>\n",
       "    </tr>\n",
       "    <tr>\n",
       "      <td>1</td>\n",
       "      <td>1972</td>\n",
       "      <td>7463.829124</td>\n",
       "    </tr>\n",
       "    <tr>\n",
       "      <td>2</td>\n",
       "      <td>1973</td>\n",
       "      <td>7679.886417</td>\n",
       "    </tr>\n",
       "    <tr>\n",
       "      <td>3</td>\n",
       "      <td>1974</td>\n",
       "      <td>7423.418494</td>\n",
       "    </tr>\n",
       "    <tr>\n",
       "      <td>4</td>\n",
       "      <td>1975</td>\n",
       "      <td>7128.775242</td>\n",
       "    </tr>\n",
       "  </tbody>\n",
       "</table>\n",
       "</div>"
      ],
      "text/plain": [
       "     ds            y\n",
       "0  1971  7179.591645\n",
       "1  1972  7463.829124\n",
       "2  1973  7679.886417\n",
       "3  1974  7423.418494\n",
       "4  1975  7128.775242"
      ]
     },
     "execution_count": 10,
     "metadata": {},
     "output_type": "execute_result"
    }
   ],
   "source": [
    "delta_df.head()"
   ]
  },
  {
   "cell_type": "code",
   "execution_count": 11,
   "metadata": {},
   "outputs": [
    {
     "name": "stderr",
     "output_type": "stream",
     "text": [
      "INFO:fbprophet:Disabling weekly seasonality. Run prophet with weekly_seasonality=True to override this.\n",
      "INFO:fbprophet:Disabling daily seasonality. Run prophet with daily_seasonality=True to override this.\n"
     ]
    }
   ],
   "source": [
    "delta_prophet = fbprophet.Prophet(changepoint_prior_scale=0.15)\n",
    "delta_prophet.fit(delta_df)\n",
    "delta_forecast = delta_prophet.make_future_dataframe(periods=25, freq='Y')\n",
    "delta_forecast = delta_prophet.predict(delta_forecast)"
   ]
  },
  {
   "cell_type": "code",
   "execution_count": 12,
   "metadata": {},
   "outputs": [
    {
     "data": {
      "image/png": "[encoded data removed]",
      "text/plain": [
       "<Figure size 720x432 with 1 Axes>"
      ]
     },
     "metadata": {},
     "output_type": "display_data"
    }
   ],
   "source": [
    "delta_prophet.plot(delta_forecast, xlabel = 'Year', ylabel = 'population (billions)')\n",
    "plt.title('US population');"
   ]
  },
  {
   "cell_type": "markdown",
   "metadata": {},
   "source": [
    "Listing the years when the difference starts to go below Zero. We will go one year above that 2035 when China Energy Consumption per Capita matches that of US's level. "
   ]
  },
  {
   "cell_type": "code",
   "execution_count": 13,
   "metadata": {},
   "outputs": [
    {
     "data": {
      "text/plain": [
       "66   2036-12-31\n",
       "67   2037-12-31\n",
       "68   2038-12-31\n",
       "Name: ds, dtype: datetime64[ns]"
      ]
     },
     "execution_count": 13,
     "metadata": {},
     "output_type": "execute_result"
    }
   ],
   "source": [
    "delta_forecast.loc[(delta_forecast.yhat<=0)].ds"
   ]
  },
  {
   "cell_type": "markdown",
   "metadata": {},
   "source": [
    "## Forecasting China population by 2035"
   ]
  },
  {
   "cell_type": "code",
   "execution_count": 14,
   "metadata": {},
   "outputs": [],
   "source": [
    "cn_pop = pd.DataFrame()"
   ]
  },
  {
   "cell_type": "code",
   "execution_count": 15,
   "metadata": {},
   "outputs": [],
   "source": [
    "cn_pop['ds'] = China.index"
   ]
  },
  {
   "cell_type": "code",
   "execution_count": 16,
   "metadata": {},
   "outputs": [],
   "source": [
    "cn_pop['y'] = China.Population.values"
   ]
  },
  {
   "cell_type": "code",
   "execution_count": 17,
   "metadata": {},
   "outputs": [],
   "source": [
    "cn_pop.ds = cn_pop.ds.astype(str)"
   ]
  },
  {
   "cell_type": "code",
   "execution_count": 18,
   "metadata": {},
   "outputs": [
    {
     "name": "stderr",
     "output_type": "stream",
     "text": [
      "INFO:fbprophet:Disabling weekly seasonality. Run prophet with weekly_seasonality=True to override this.\n",
      "INFO:fbprophet:Disabling daily seasonality. Run prophet with daily_seasonality=True to override this.\n"
     ]
    }
   ],
   "source": [
    "cn_prophet = fbprophet.Prophet(changepoint_prior_scale=0.15)\n",
    "cn_prophet.fit(cn_pop)\n",
    "cn_forecast = cn_prophet.make_future_dataframe(periods=25, freq='Y')\n",
    "cn_forecast = cn_prophet.predict(cn_forecast)"
   ]
  },
  {
   "cell_type": "code",
   "execution_count": 19,
   "metadata": {},
   "outputs": [
    {
     "data": {
      "image/png": "[encoded data removed]",
      "text/plain": [
       "<Figure size 720x432 with 1 Axes>"
      ]
     },
     "metadata": {},
     "output_type": "display_data"
    }
   ],
   "source": [
    "cn_prophet.plot(cn_forecast, xlabel = 'Year', ylabel = 'population (billions)')\n",
    "plt.title('China population');"
   ]
  },
  {
   "cell_type": "code",
   "execution_count": 20,
   "metadata": {},
   "outputs": [
    {
     "data": {
      "text/html": [
       "<div>\n",
       "<style scoped>\n",
       "    .dataframe tbody tr th:only-of-type {\n",
       "        vertical-align: middle;\n",
       "    }\n",
       "\n",
       "    .dataframe tbody tr th {\n",
       "        vertical-align: top;\n",
       "    }\n",
       "\n",
       "    .dataframe thead th {\n",
       "        text-align: right;\n",
       "    }\n",
       "</style>\n",
       "<table border=\"1\" class=\"dataframe\">\n",
       "  <thead>\n",
       "    <tr style=\"text-align: right;\">\n",
       "      <th></th>\n",
       "      <th>ds</th>\n",
       "      <th>trend</th>\n",
       "      <th>yhat_lower</th>\n",
       "      <th>yhat_upper</th>\n",
       "      <th>trend_lower</th>\n",
       "      <th>trend_upper</th>\n",
       "      <th>additive_terms</th>\n",
       "      <th>additive_terms_lower</th>\n",
       "      <th>additive_terms_upper</th>\n",
       "      <th>yearly</th>\n",
       "      <th>yearly_lower</th>\n",
       "      <th>yearly_upper</th>\n",
       "      <th>multiplicative_terms</th>\n",
       "      <th>multiplicative_terms_lower</th>\n",
       "      <th>multiplicative_terms_upper</th>\n",
       "      <th>yhat</th>\n",
       "    </tr>\n",
       "  </thead>\n",
       "  <tbody>\n",
       "    <tr>\n",
       "      <td>0</td>\n",
       "      <td>1971-01-01</td>\n",
       "      <td>4.562841e+07</td>\n",
       "      <td>8.408732e+08</td>\n",
       "      <td>8.413569e+08</td>\n",
       "      <td>4.562841e+07</td>\n",
       "      <td>4.562841e+07</td>\n",
       "      <td>7.954837e+08</td>\n",
       "      <td>7.954837e+08</td>\n",
       "      <td>7.954837e+08</td>\n",
       "      <td>7.954837e+08</td>\n",
       "      <td>7.954837e+08</td>\n",
       "      <td>7.954837e+08</td>\n",
       "      <td>0.0</td>\n",
       "      <td>0.0</td>\n",
       "      <td>0.0</td>\n",
       "      <td>8.411121e+08</td>\n",
       "    </tr>\n",
       "    <tr>\n",
       "      <td>1</td>\n",
       "      <td>1972-01-01</td>\n",
       "      <td>6.687601e+07</td>\n",
       "      <td>8.620403e+08</td>\n",
       "      <td>8.624979e+08</td>\n",
       "      <td>6.687601e+07</td>\n",
       "      <td>6.687601e+07</td>\n",
       "      <td>7.953986e+08</td>\n",
       "      <td>7.953986e+08</td>\n",
       "      <td>7.953986e+08</td>\n",
       "      <td>7.953986e+08</td>\n",
       "      <td>7.953986e+08</td>\n",
       "      <td>7.953986e+08</td>\n",
       "      <td>0.0</td>\n",
       "      <td>0.0</td>\n",
       "      <td>0.0</td>\n",
       "      <td>8.622746e+08</td>\n",
       "    </tr>\n",
       "    <tr>\n",
       "      <td>2</td>\n",
       "      <td>1973-01-01</td>\n",
       "      <td>8.608674e+07</td>\n",
       "      <td>8.811790e+08</td>\n",
       "      <td>8.816687e+08</td>\n",
       "      <td>8.608674e+07</td>\n",
       "      <td>8.608674e+07</td>\n",
       "      <td>7.953491e+08</td>\n",
       "      <td>7.953491e+08</td>\n",
       "      <td>7.953491e+08</td>\n",
       "      <td>7.953491e+08</td>\n",
       "      <td>7.953491e+08</td>\n",
       "      <td>7.953491e+08</td>\n",
       "      <td>0.0</td>\n",
       "      <td>0.0</td>\n",
       "      <td>0.0</td>\n",
       "      <td>8.814359e+08</td>\n",
       "    </tr>\n",
       "    <tr>\n",
       "      <td>3</td>\n",
       "      <td>1974-01-01</td>\n",
       "      <td>1.052450e+08</td>\n",
       "      <td>9.003639e+08</td>\n",
       "      <td>9.008322e+08</td>\n",
       "      <td>1.052450e+08</td>\n",
       "      <td>1.052450e+08</td>\n",
       "      <td>7.953574e+08</td>\n",
       "      <td>7.953574e+08</td>\n",
       "      <td>7.953574e+08</td>\n",
       "      <td>7.953574e+08</td>\n",
       "      <td>7.953574e+08</td>\n",
       "      <td>7.953574e+08</td>\n",
       "      <td>0.0</td>\n",
       "      <td>0.0</td>\n",
       "      <td>0.0</td>\n",
       "      <td>9.006024e+08</td>\n",
       "    </tr>\n",
       "    <tr>\n",
       "      <td>4</td>\n",
       "      <td>1975-01-01</td>\n",
       "      <td>1.209113e+08</td>\n",
       "      <td>9.161578e+08</td>\n",
       "      <td>9.166340e+08</td>\n",
       "      <td>1.209113e+08</td>\n",
       "      <td>1.209113e+08</td>\n",
       "      <td>7.954837e+08</td>\n",
       "      <td>7.954837e+08</td>\n",
       "      <td>7.954837e+08</td>\n",
       "      <td>7.954837e+08</td>\n",
       "      <td>7.954837e+08</td>\n",
       "      <td>7.954837e+08</td>\n",
       "      <td>0.0</td>\n",
       "      <td>0.0</td>\n",
       "      <td>0.0</td>\n",
       "      <td>9.163950e+08</td>\n",
       "    </tr>\n",
       "    <tr>\n",
       "      <td>...</td>\n",
       "      <td>...</td>\n",
       "      <td>...</td>\n",
       "      <td>...</td>\n",
       "      <td>...</td>\n",
       "      <td>...</td>\n",
       "      <td>...</td>\n",
       "      <td>...</td>\n",
       "      <td>...</td>\n",
       "      <td>...</td>\n",
       "      <td>...</td>\n",
       "      <td>...</td>\n",
       "      <td>...</td>\n",
       "      <td>...</td>\n",
       "      <td>...</td>\n",
       "      <td>...</td>\n",
       "      <td>...</td>\n",
       "    </tr>\n",
       "    <tr>\n",
       "      <td>64</td>\n",
       "      <td>2034-12-31</td>\n",
       "      <td>7.086596e+08</td>\n",
       "      <td>1.424842e+09</td>\n",
       "      <td>1.582125e+09</td>\n",
       "      <td>6.343672e+08</td>\n",
       "      <td>7.914071e+08</td>\n",
       "      <td>7.905880e+08</td>\n",
       "      <td>7.905880e+08</td>\n",
       "      <td>7.905880e+08</td>\n",
       "      <td>7.905880e+08</td>\n",
       "      <td>7.905880e+08</td>\n",
       "      <td>7.905880e+08</td>\n",
       "      <td>0.0</td>\n",
       "      <td>0.0</td>\n",
       "      <td>0.0</td>\n",
       "      <td>1.499248e+09</td>\n",
       "    </tr>\n",
       "    <tr>\n",
       "      <td>65</td>\n",
       "      <td>2035-12-31</td>\n",
       "      <td>7.153138e+08</td>\n",
       "      <td>1.421062e+09</td>\n",
       "      <td>1.590179e+09</td>\n",
       "      <td>6.347220e+08</td>\n",
       "      <td>8.040181e+08</td>\n",
       "      <td>7.863777e+08</td>\n",
       "      <td>7.863777e+08</td>\n",
       "      <td>7.863777e+08</td>\n",
       "      <td>7.863777e+08</td>\n",
       "      <td>7.863777e+08</td>\n",
       "      <td>7.863777e+08</td>\n",
       "      <td>0.0</td>\n",
       "      <td>0.0</td>\n",
       "      <td>0.0</td>\n",
       "      <td>1.501692e+09</td>\n",
       "    </tr>\n",
       "    <tr>\n",
       "      <td>66</td>\n",
       "      <td>2036-12-31</td>\n",
       "      <td>7.219863e+08</td>\n",
       "      <td>1.430254e+09</td>\n",
       "      <td>1.610440e+09</td>\n",
       "      <td>6.355154e+08</td>\n",
       "      <td>8.157125e+08</td>\n",
       "      <td>7.947729e+08</td>\n",
       "      <td>7.947729e+08</td>\n",
       "      <td>7.947729e+08</td>\n",
       "      <td>7.947729e+08</td>\n",
       "      <td>7.947729e+08</td>\n",
       "      <td>7.947729e+08</td>\n",
       "      <td>0.0</td>\n",
       "      <td>0.0</td>\n",
       "      <td>0.0</td>\n",
       "      <td>1.516759e+09</td>\n",
       "    </tr>\n",
       "    <tr>\n",
       "      <td>67</td>\n",
       "      <td>2037-12-31</td>\n",
       "      <td>7.286405e+08</td>\n",
       "      <td>1.430311e+09</td>\n",
       "      <td>1.623870e+09</td>\n",
       "      <td>6.369663e+08</td>\n",
       "      <td>8.306282e+08</td>\n",
       "      <td>7.932783e+08</td>\n",
       "      <td>7.932783e+08</td>\n",
       "      <td>7.932783e+08</td>\n",
       "      <td>7.932783e+08</td>\n",
       "      <td>7.932783e+08</td>\n",
       "      <td>7.932783e+08</td>\n",
       "      <td>0.0</td>\n",
       "      <td>0.0</td>\n",
       "      <td>0.0</td>\n",
       "      <td>1.521919e+09</td>\n",
       "    </tr>\n",
       "    <tr>\n",
       "      <td>68</td>\n",
       "      <td>2038-12-31</td>\n",
       "      <td>7.352947e+08</td>\n",
       "      <td>1.429605e+09</td>\n",
       "      <td>1.636873e+09</td>\n",
       "      <td>6.389417e+08</td>\n",
       "      <td>8.465772e+08</td>\n",
       "      <td>7.905880e+08</td>\n",
       "      <td>7.905880e+08</td>\n",
       "      <td>7.905880e+08</td>\n",
       "      <td>7.905880e+08</td>\n",
       "      <td>7.905880e+08</td>\n",
       "      <td>7.905880e+08</td>\n",
       "      <td>0.0</td>\n",
       "      <td>0.0</td>\n",
       "      <td>0.0</td>\n",
       "      <td>1.525883e+09</td>\n",
       "    </tr>\n",
       "  </tbody>\n",
       "</table>\n",
       "<p>69 rows × 16 columns</p>\n",
       "</div>"
      ],
      "text/plain": [
       "           ds         trend    yhat_lower    yhat_upper   trend_lower  \\\n",
       "0  1971-01-01  4.562841e+07  8.408732e+08  8.413569e+08  4.562841e+07   \n",
       "1  1972-01-01  6.687601e+07  8.620403e+08  8.624979e+08  6.687601e+07   \n",
       "2  1973-01-01  8.608674e+07  8.811790e+08  8.816687e+08  8.608674e+07   \n",
       "3  1974-01-01  1.052450e+08  9.003639e+08  9.008322e+08  1.052450e+08   \n",
       "4  1975-01-01  1.209113e+08  9.161578e+08  9.166340e+08  1.209113e+08   \n",
       "..        ...           ...           ...           ...           ...   \n",
       "64 2034-12-31  7.086596e+08  1.424842e+09  1.582125e+09  6.343672e+08   \n",
       "65 2035-12-31  7.153138e+08  1.421062e+09  1.590179e+09  6.347220e+08   \n",
       "66 2036-12-31  7.219863e+08  1.430254e+09  1.610440e+09  6.355154e+08   \n",
       "67 2037-12-31  7.286405e+08  1.430311e+09  1.623870e+09  6.369663e+08   \n",
       "68 2038-12-31  7.352947e+08  1.429605e+09  1.636873e+09  6.389417e+08   \n",
       "\n",
       "     trend_upper  additive_terms  additive_terms_lower  additive_terms_upper  \\\n",
       "0   4.562841e+07    7.954837e+08          7.954837e+08          7.954837e+08   \n",
       "1   6.687601e+07    7.953986e+08          7.953986e+08          7.953986e+08   \n",
       "2   8.608674e+07    7.953491e+08          7.953491e+08          7.953491e+08   \n",
       "3   1.052450e+08    7.953574e+08          7.953574e+08          7.953574e+08   \n",
       "4   1.209113e+08    7.954837e+08          7.954837e+08          7.954837e+08   \n",
       "..           ...             ...                   ...                   ...   \n",
       "64  7.914071e+08    7.905880e+08          7.905880e+08          7.905880e+08   \n",
       "65  8.040181e+08    7.863777e+08          7.863777e+08          7.863777e+08   \n",
       "66  8.157125e+08    7.947729e+08          7.947729e+08          7.947729e+08   \n",
       "67  8.306282e+08    7.932783e+08          7.932783e+08          7.932783e+08   \n",
       "68  8.465772e+08    7.905880e+08          7.905880e+08          7.905880e+08   \n",
       "\n",
       "          yearly  yearly_lower  yearly_upper  multiplicative_terms  \\\n",
       "0   7.954837e+08  7.954837e+08  7.954837e+08                   0.0   \n",
       "1   7.953986e+08  7.953986e+08  7.953986e+08                   0.0   \n",
       "2   7.953491e+08  7.953491e+08  7.953491e+08                   0.0   \n",
       "3   7.953574e+08  7.953574e+08  7.953574e+08                   0.0   \n",
       "4   7.954837e+08  7.954837e+08  7.954837e+08                   0.0   \n",
       "..           ...           ...           ...                   ...   \n",
       "64  7.905880e+08  7.905880e+08  7.905880e+08                   0.0   \n",
       "65  7.863777e+08  7.863777e+08  7.863777e+08                   0.0   \n",
       "66  7.947729e+08  7.947729e+08  7.947729e+08                   0.0   \n",
       "67  7.932783e+08  7.932783e+08  7.932783e+08                   0.0   \n",
       "68  7.905880e+08  7.905880e+08  7.905880e+08                   0.0   \n",
       "\n",
       "    multiplicative_terms_lower  multiplicative_terms_upper          yhat  \n",
       "0                          0.0                         0.0  8.411121e+08  \n",
       "1                          0.0                         0.0  8.622746e+08  \n",
       "2                          0.0                         0.0  8.814359e+08  \n",
       "3                          0.0                         0.0  9.006024e+08  \n",
       "4                          0.0                         0.0  9.163950e+08  \n",
       "..                         ...                         ...           ...  \n",
       "64                         0.0                         0.0  1.499248e+09  \n",
       "65                         0.0                         0.0  1.501692e+09  \n",
       "66                         0.0                         0.0  1.516759e+09  \n",
       "67                         0.0                         0.0  1.521919e+09  \n",
       "68                         0.0                         0.0  1.525883e+09  \n",
       "\n",
       "[69 rows x 16 columns]"
      ]
     },
     "execution_count": 20,
     "metadata": {},
     "output_type": "execute_result"
    }
   ],
   "source": [
    "cn_forecast"
   ]
  },
  {
   "cell_type": "markdown",
   "metadata": {},
   "source": [
    "## Forecasting China Energy Consumption by 2035"
   ]
  },
  {
   "cell_type": "code",
   "execution_count": 22,
   "metadata": {},
   "outputs": [],
   "source": [
    "temp_cn_eng = pd.DataFrame()"
   ]
  },
  {
   "cell_type": "code",
   "execution_count": 23,
   "metadata": {},
   "outputs": [],
   "source": [
    "temp_cn_eng['ds'] = China.index"
   ]
  },
  {
   "cell_type": "code",
   "execution_count": 24,
   "metadata": {},
   "outputs": [],
   "source": [
    "temp_cn_eng['y'] = China.Energy.values"
   ]
  },
  {
   "cell_type": "code",
   "execution_count": 25,
   "metadata": {},
   "outputs": [],
   "source": [
    "temp_cn_eng.ds = temp_cn_eng.ds.astype(str)"
   ]
  },
  {
   "cell_type": "code",
   "execution_count": 26,
   "metadata": {},
   "outputs": [
    {
     "name": "stderr",
     "output_type": "stream",
     "text": [
      "INFO:fbprophet:Disabling weekly seasonality. Run prophet with weekly_seasonality=True to override this.\n",
      "INFO:fbprophet:Disabling daily seasonality. Run prophet with daily_seasonality=True to override this.\n"
     ]
    }
   ],
   "source": [
    "cn_eng_prophet = fbprophet.Prophet(changepoint_prior_scale=0.15)\n",
    "cn_eng_prophet.fit(temp_cn_eng)\n",
    "cn_eng_forecast = cn_eng_prophet.make_future_dataframe(periods=25, freq='Y')\n",
    "cn_eng_forecast = cn_eng_prophet.predict(cn_eng_forecast)"
   ]
  },
  {
   "cell_type": "code",
   "execution_count": 29,
   "metadata": {},
   "outputs": [
    {
     "name": "stdout",
     "output_type": "stream",
     "text": [
      "China Total Energy Consumption in 2035 compared to 2014:  2.272784300271042\n"
     ]
    }
   ],
   "source": [
    "print('China Total Energy Consumption in 2035 compared to 2014: ', \n",
    "      (cn_forecast.loc[65].yhat*cn_eng_forecast.loc[65].yhat)/(China.loc[2014].Energy*China.loc[2014].Population))"
   ]
  },
  {
   "cell_type": "code",
   "execution_count": 28,
   "metadata": {},
   "outputs": [
    {
     "name": "stdout",
     "output_type": "stream",
     "text": [
      "China Total Energy Consumption 2035 compared to the whole world consumption in 2014:  0.49720097969062305\n"
     ]
    }
   ],
   "source": [
    "print('China Total Energy Consumption 2035 compared to the whole world consumption in 2014: ', \n",
    "      (cn_forecast.loc[65].yhat*cn_eng_forecast.loc[65].yhat)/(energy.loc['World']['2014']*population.loc['World']['2014']))"
   ]
  }
 ],
 "metadata": {
  "kernelspec": {
   "display_name": "Python 3",
   "language": "python",
   "name": "python3"
  },
  "language_info": {
   "codemirror_mode": {
    "name": "ipython",
    "version": 3
   },
   "file_extension": ".py",
   "mimetype": "text/x-python",
   "name": "python",
   "nbconvert_exporter": "python",
   "pygments_lexer": "ipython3",
   "version": "3.7.4"
  }
 },
 "nbformat": 4,
 "nbformat_minor": 2
}
